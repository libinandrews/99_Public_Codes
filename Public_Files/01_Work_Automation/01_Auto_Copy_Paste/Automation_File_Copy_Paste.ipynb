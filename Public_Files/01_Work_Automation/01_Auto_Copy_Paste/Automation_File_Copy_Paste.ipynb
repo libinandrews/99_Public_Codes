{
  "nbformat": 4,
  "nbformat_minor": 0,
  "metadata": {
    "colab": {
      "name": "Automation_File_Copy_Paste.ipynb",
      "provenance": [],
      "collapsed_sections": [],
      "authorship_tag": "ABX9TyM0Ev2Agbbzyh8X1zhQRleq",
      "include_colab_link": true
    },
    "kernelspec": {
      "name": "python3",
      "display_name": "Python 3"
    },
    "language_info": {
      "name": "python"
    }
  },
  "cells": [
    {
      "cell_type": "markdown",
      "metadata": {
        "id": "view-in-github",
        "colab_type": "text"
      },
      "source": [
        "<a href=\"https://colab.research.google.com/github/libinandrews/Public_Files/blob/main/Public_Files/01_Work_Automation/01_Auto_Copy_Paste/Automation_File_Copy_Paste.ipynb\" target=\"_parent\"><img src=\"https://colab.research.google.com/assets/colab-badge.svg\" alt=\"Open In Colab\"/></a>"
      ]
    },
    {
      "cell_type": "markdown",
      "source": [
        "#File_ Auto_Copy_Paste"
      ],
      "metadata": {
        "id": "vQZ0G24Sf75V"
      }
    },
    {
      "cell_type": "markdown",
      "source": [
        "Always feel free to connect with me on my [Linked In.](https://in.linkedin.com/in/libinandrews)\n",
        "\n",
        "Open for your doubts and further development on the project.\n",
        "\n",
        "\n",
        "If you are intrested to work with me on any personal projects Linked in [My Git Hub](https://github.com/libinandrews/) profile.\n",
        "\n",
        "\n",
        "Please feel free to open question related to any top\n",
        "\n",
        "\n",
        "** This code wont work on Google Colab. Kindly use Jupitor notebook or any local machine. **"
      ],
      "metadata": {
        "id": "Z6GRCRD8hpat"
      }
    },
    {
      "cell_type": "markdown",
      "source": [
        "Installing the librarires"
      ],
      "metadata": {
        "id": "c1LH9aDkxOOH"
      }
    },
    {
      "cell_type": "code",
      "source": [
        "!pip install pytest-shutil"
      ],
      "metadata": {
        "id": "CUw8851yK2EE"
      },
      "execution_count": null,
      "outputs": []
    },
    {
      "cell_type": "code",
      "execution_count": null,
      "metadata": {
        "id": "kB_EA3fbxyAv"
      },
      "outputs": [],
      "source": [
        "# if you dont have os,pandas and re please install using pip\n",
        "import os\n",
        "import re\n",
        "import shutil\n",
        "import pandas as pd"
      ]
    },
    {
      "cell_type": "code",
      "source": [
        "# Define function for taking list of files\n",
        "\n",
        "def FilesList (link) :\n",
        "    files = os.listdir(link)\n",
        "    Files = list()\n",
        "    for i in files :\n",
        "        lfiles = os.path.join(link, i)\n",
        "\n",
        "        # For me File format are .mf4 and .dat \n",
        "        #if you want to use any other format u can change from here ( example change .mf4 to .mp3)\n",
        "\n",
        "        if re.search ('.mf4',i) : Files.append(lfiles)\n",
        "        if re.search ('.dat',i) : Files.append(lfiles)\n",
        "        # you can add more file format by just copy paste if statement.\n",
        "\n",
        "\n",
        "        #Suppose another folder there in directory.\n",
        "        # if you dont want sub directory you can comment it here.\n",
        "        if os.path.isdir(lfiles):\n",
        "           Files = Files + FilesList (lfiles)\n",
        "    return Files\n",
        "\n",
        "#to get the file name from File List. it will help in many situation.\n",
        "def filename (libin) :\n",
        "    for x in libin :\n",
        "        name = libin.split('\\\\')\n",
        "        j= -1\n",
        "        for k in name :\n",
        "            j = j+1 \n",
        "        k = name[j]\n",
        "    return k"
      ],
      "metadata": {
        "id": "_WhvvBkag7uh"
      },
      "execution_count": null,
      "outputs": []
    },
    {
      "cell_type": "code",
      "source": [
        "#source of files need to take in\n",
        "\n",
        "source = r'C:\\Users\\libinandrews\\Desktop\\Tata\\01_Recordings\\All Recordings\\All Data'"
      ],
      "metadata": {
        "id": "LmU5SYr7hGwy"
      },
      "execution_count": null,
      "outputs": []
    },
    {
      "cell_type": "code",
      "source": [
        "#Load files\n",
        "Files = FilesList (source)"
      ],
      "metadata": {
        "id": "S2MxgAl4MUn1"
      },
      "execution_count": null,
      "outputs": []
    },
    {
      "cell_type": "markdown",
      "source": [
        "## For moving file according to File name "
      ],
      "metadata": {
        "id": "bLjDVmj7MktT"
      }
    },
    {
      "cell_type": "code",
      "source": [
        "#files name will be sorted \n",
        "Dest1=  r'C:\\Users\\libinandrews\\Desktop\\Tata\\01_Recordings\\All Recordings\\All Data\\whtc'\n",
        "Dest2=  r'C:\\Users\\libinandrews\\Desktop\\Tata\\01_Recordings\\All Recordings\\All Data\\DFC'\n",
        "# so here the goal is to move keyword whtc to Dest1 location and DFC keywords to Dest2 Location\n",
        "\n",
        "for i in Files :\n",
        "    if re.search('Keyword',i):\n",
        "        shutil.move(i,WHTC)\n",
        "    elif re.search('DFC',i):\n",
        "        shutil.move(i,DFC)\n",
        "    #any other keywords is there then you can copy paste if statement and put specific keyword.\n",
        "    # please make sure key is not there in your path\n"
      ],
      "metadata": {
        "id": "Q1Xu4el7MaTN"
      },
      "execution_count": null,
      "outputs": []
    },
    {
      "cell_type": "markdown",
      "source": [
        "##For copy file from one place to other"
      ],
      "metadata": {
        "id": "2rKOttaLNzVy"
      }
    },
    {
      "cell_type": "code",
      "source": [
        "# Source path\n",
        "source = r'C:\\Users\\libinandrews\\Desktop\\Tata\\01_Recordings\\file1.mf4'\n",
        " \n",
        "# Destination path\n",
        "destination = r'server/addres'\n",
        " \n",
        "# Copy the content of\n",
        "# source to destination\n",
        " \n",
        "try:\n",
        "    shutil.copyfile(source, destination)\n",
        "    print(\"File copied successfully.\")\n",
        " \n",
        "# If source and destination are same\n",
        "except shutil.SameFileError:\n",
        "    print(\"Source and destination represents the same file.\")\n",
        " \n",
        "# If destination is a directory.\n",
        "except IsADirectoryError:\n",
        "    print(\"Destination is a directory.\")\n",
        " \n",
        "# If there is any permission issue\n",
        "except PermissionError:\n",
        "    print(\"Permission denied.\")\n",
        " \n",
        "# For other errors\n",
        "except:\n",
        "    print(\"Error occurred while copying file.\")\n",
        "\n",
        "# you can use for loop to do with multiple keyword file"
      ],
      "metadata": {
        "id": "dBWkQXPgN43J"
      },
      "execution_count": null,
      "outputs": []
    }
  ]
}