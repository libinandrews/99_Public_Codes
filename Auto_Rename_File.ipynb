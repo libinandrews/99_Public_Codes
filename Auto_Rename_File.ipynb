{
  "nbformat": 4,
  "nbformat_minor": 0,
  "metadata": {
    "colab": {
      "name": "Auto_Rename_File.ipynb",
      "provenance": [],
      "collapsed_sections": [],
      "authorship_tag": "ABX9TyOdxslXLfVGH0SLMB7F1aDl",
      "include_colab_link": true
    },
    "kernelspec": {
      "name": "python3",
      "display_name": "Python 3"
    },
    "language_info": {
      "name": "python"
    }
  },
  "cells": [
    {
      "cell_type": "markdown",
      "metadata": {
        "id": "view-in-github",
        "colab_type": "text"
      },
      "source": [
        "<a href=\"https://colab.research.google.com/github/libinandrews/Public_Files/blob/main/Auto_Rename_File.ipynb\" target=\"_parent\"><img src=\"https://colab.research.google.com/assets/colab-badge.svg\" alt=\"Open In Colab\"/></a>"
      ]
    },
    {
      "cell_type": "markdown",
      "source": [
        "Always feel free to connect with me on my [Linked In.](https://in.linkedin.com/in/libinandrews)\n",
        "\n",
        "Open for your doubts and further development on the project.\n",
        "\n",
        "\n",
        "If you are intrested to work with me on any personal projects Linked in [My Git Hub](https://github.com/libinandrews/) profile.\n",
        "\n",
        "\n",
        "Please feel free to open question related to any top\n",
        "\n",
        "\n",
        "** This code wont work on Google Colab. Kindly use Jupitor notebook or any local machine. **"
      ],
      "metadata": {
        "id": "Wp58OItGQBHP"
      }
    },
    {
      "cell_type": "code",
      "execution_count": null,
      "metadata": {
        "id": "oonUMsZuP5b6"
      },
      "outputs": [],
      "source": [
        "# if you dont have os,pandas and re please install using pip\n",
        "import os\n",
        "import re\n",
        "import shutil\n",
        "import pandas as pd"
      ]
    },
    {
      "cell_type": "code",
      "source": [
        "# Define function for taking list of files\n",
        "\n",
        "def FilesList (link) :\n",
        "    files = os.listdir(link)\n",
        "    Files = list()\n",
        "    for i in files :\n",
        "        lfiles = os.path.join(link, i)\n",
        "\n",
        "        # For me File format are .mf4 and .dat \n",
        "        #if you want to use any other format u can change from here ( example change .mf4 to .mp3)\n",
        "\n",
        "        if re.search ('.mf4',i) : Files.append(lfiles)\n",
        "        if re.search ('.dat',i) : Files.append(lfiles)\n",
        "        # you can add more file format by just copy paste if statement.\n",
        "\n",
        "\n",
        "        #Suppose another folder there in directory.\n",
        "        # if you dont want sub directory you can comment it here.\n",
        "        if os.path.isdir(lfiles):\n",
        "           Files = Files + FilesList (lfiles)\n",
        "    return Files\n",
        "\n",
        "#to get the file name from File List. it will help in many situation.\n",
        "def filename (libin) :\n",
        "    for x in libin :\n",
        "        name = libin.split('\\\\')\n",
        "        j= -1\n",
        "        for k in name :\n",
        "            j = j+1 \n",
        "        k = name[j]\n",
        "    return k"
      ],
      "metadata": {
        "id": "YxzS-qaPQudM"
      },
      "execution_count": null,
      "outputs": []
    },
    {
      "cell_type": "code",
      "source": [
        "#source of files need to take in\n",
        "source = r'C:\\Users\\libinandrews\\Desktop\\Tata\\01_Recordings\\All Recordings\\All Data'\n",
        "Files = FilesList (source)"
      ],
      "metadata": {
        "id": "rXBHESr8Q6H9"
      },
      "execution_count": null,
      "outputs": []
    },
    {
      "cell_type": "code",
      "source": [
        "# will take file name for referance\n",
        "name = []\n",
        "for i in Files:\n",
        "    name.append(filename(i))"
      ],
      "metadata": {
        "id": "WppQVkEjSt9D"
      },
      "execution_count": null,
      "outputs": []
    },
    {
      "cell_type": "code",
      "source": [
        "# Make Pandas DataFrame to export to excel\n",
        "db = pd.DataFrame()\n",
        "db['Path'] = Files\n",
        "db ['OldName'] = name"
      ],
      "metadata": {
        "id": "Mok8qReIS3XC"
      },
      "execution_count": null,
      "outputs": []
    },
    {
      "cell_type": "code",
      "source": [
        "path = r'C:\\Users\\libinandrews\\Desktop\\renamefile.xlsx'\n",
        "with pd.ExcelWriter(path) as writer:\n",
        "    db.to_excel(writer, sheet_name=\"Sheet1\")  "
      ],
      "metadata": {
        "id": "4HJQ3jVwRc4t"
      },
      "execution_count": null,
      "outputs": []
    },
    {
      "cell_type": "markdown",
      "source": [
        "Then Manualy better change by adding new column named as New_Name"
      ],
      "metadata": {
        "id": "JpZJa9G2TPgp"
      }
    },
    {
      "cell_type": "code",
      "source": [
        "# Read the excel after compliting the rename process\n",
        "df = pd.read_excel(path)\n",
        "#Rename will take from here\n",
        "for i in df.OldName :\n",
        "# Source file path\n",
        "    s = df.iloc[a].OldName\n",
        "    source = f+'\\\\'+s\n",
        "#  destination file path\n",
        "    d= df.iloc[a].New_Name\n",
        "    dest = f+'\\\\'+d\n",
        "    for j in List :\n",
        "        if source == j : \n",
        "            os.rename(source, dest)\n",
        "            print(filename(d),'renamed','\\n')\n",
        "    a = a+1"
      ],
      "metadata": {
        "id": "lNQLN-7HRM10"
      },
      "execution_count": null,
      "outputs": []
    }
  ]
}